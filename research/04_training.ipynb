{
 "cells": [
  {
   "cell_type": "code",
   "execution_count": 1,
   "metadata": {},
   "outputs": [],
   "source": [
    "import os "
   ]
  },
  {
   "cell_type": "code",
   "execution_count": 2,
   "metadata": {},
   "outputs": [
    {
     "data": {
      "text/plain": [
       "'d:\\\\Chicken_Disease_Classification\\\\research'"
      ]
     },
     "execution_count": 2,
     "metadata": {},
     "output_type": "execute_result"
    }
   ],
   "source": [
    "%pwd"
   ]
  },
  {
   "cell_type": "code",
   "execution_count": 3,
   "metadata": {},
   "outputs": [],
   "source": [
    "os.chdir('../')"
   ]
  },
  {
   "cell_type": "code",
   "execution_count": 5,
   "metadata": {},
   "outputs": [],
   "source": [
    "from dataclasses import dataclass\n",
    "from pathlib import Path\n",
    "\n",
    "@dataclass(frozen=True)\n",
    "class TrainingConfig:\n",
    "     root_dir: Path \n",
    "     trained_model_path: Path \n",
    "     updated_base_model_path: Path \n",
    "     training_data: Path \n",
    "     params_epochs: int \n",
    "     params_batch_size: int\n",
    "     params_is_augmentation: bool\n",
    "     params_image_size: list\n",
    "     \n",
    "     \n",
    "@dataclass(frozen=True)\n",
    "class PrepareCallbacksConfig:\n",
    "    root_dir: Path\n",
    "    tensorboard_root_log_dir: Path\n",
    "    checkpoint_model_filepath: Path"
   ]
  },
  {
   "cell_type": "code",
   "execution_count": 6,
   "metadata": {},
   "outputs": [],
   "source": [
    "from src.CnnClassifier.constants import *\n",
    "from src.CnnClassifier.utils.common import read_yaml,create_directories\n",
    "import tensorflow as tf \n"
   ]
  },
  {
   "cell_type": "code",
   "execution_count": 7,
   "metadata": {},
   "outputs": [],
   "source": [
    "class ConfigurationManager:\n",
    "    def __init__(\n",
    "        self, \n",
    "        config_filepath = CONFIG_FILE_PATH,\n",
    "        params_filepath = PARAMS_FILE_PATH):\n",
    "        self.config = read_yaml(config_filepath)\n",
    "        self.params = read_yaml(params_filepath)\n",
    "        create_directories([self.config.artifacts_root])\n",
    "     \n",
    "    def get_prepare_callback_config(self) -> PrepareCallbacksConfig:\n",
    "         config = self.config.prepare_callbacks\n",
    "         model_ckpt_dir = os.path.dirname(config.checkpoint_model_filepath)\n",
    "         create_directories([\n",
    "             Path(model_ckpt_dir),\n",
    "            Path(config.tensorboard_root_log_dir)\n",
    "        ])\n",
    "\n",
    "         prepare_callback_config = PrepareCallbacksConfig(\n",
    "            root_dir=Path(config.root_dir),\n",
    "            tensorboard_root_log_dir=Path(config.tensorboard_root_log_dir),\n",
    "            checkpoint_model_filepath=Path(config.checkpoint_model_filepath)\n",
    "        )\n",
    "\n",
    "         return prepare_callback_config\n",
    "    \n",
    "    def get_training_config(self)->TrainingConfig:\n",
    "         training=self.config.training\n",
    "         prepare_base_model=self.config.prepare_base_model\n",
    "         params=self.params\n",
    "         training_data=os.path.join(self.config.data_ingestion.unzip_dir,\"Chicken-fecal-images\")\n",
    "         create_directories([\n",
    "              Path(training.root_dir)\n",
    "         ])\n",
    "         \n",
    "         training_config=TrainingConfig(\n",
    "              root_dir=Path(training.root_dir),\n",
    "              trained_model_path=Path(training.trained_model_path),\n",
    "              updated_base_model_path=Path(prepare_base_model.updated_base_model_path),\n",
    "              training_data=Path(training_data),\n",
    "              params_epochs=params.EPOCHS,\n",
    "              params_batch_size=params.BATCH_SIZE,\n",
    "              params_is_augmentation=params.AUGMENTATION,\n",
    "              params_image_size=params.IMAGE_SIZE\n",
    "              \n",
    "         )\n",
    "         return training_config"
   ]
  },
  {
   "cell_type": "code",
   "execution_count": 8,
   "metadata": {},
   "outputs": [],
   "source": [
    "import time"
   ]
  },
  {
   "cell_type": "code",
   "execution_count": 9,
   "metadata": {},
   "outputs": [],
   "source": [
    "import os\n",
    "import time\n",
    "import tensorflow as tf\n",
    "from pathlib import Path\n",
    "\n",
    "class PrepareCallback:\n",
    "    def __init__(self, config: PrepareCallbacksConfig):\n",
    "        self.config = config\n",
    "\n",
    "    @property\n",
    "    def _create_tb_callbacks(self):\n",
    "        timestamp = time.strftime(\"%Y-%m-%d-%H-%M-%S\")\n",
    "        tb_running_log_dir = os.path.join(\n",
    "            self.config.tensorboard_root_log_dir,\n",
    "            f\"tb_logs_at_{timestamp}\"\n",
    "        )\n",
    "        return tf.keras.callbacks.TensorBoard(log_dir=tb_running_log_dir)\n",
    "\n",
    "    @property\n",
    "    def _create_ckpt_callbacks(self):\n",
    "        return tf.keras.callbacks.ModelCheckpoint(\n",
    "            filepath=str(self.config.checkpoint_model_filepath),\n",
    "            save_best_only=True\n",
    "        )\n",
    "\n",
    "    def get_tb_ckpt_callbacks(self):\n",
    "        return [\n",
    "            self._create_tb_callbacks,\n",
    "            self._create_ckpt_callbacks\n",
    "        ]\n",
    "\n"
   ]
  },
  {
   "cell_type": "code",
   "execution_count": 10,
   "metadata": {},
   "outputs": [],
   "source": [
    "import os \n",
    "import urllib.request as request\n",
    "from zipfile import ZipFile\n",
    "import tensorflow as tf \n",
    "import time "
   ]
  },
  {
   "cell_type": "code",
   "execution_count": 11,
   "metadata": {},
   "outputs": [],
   "source": [
    "class Training:\n",
    "     def __init__(self,config:TrainingConfig):\n",
    "          self.config=config\n",
    "          \n",
    "     def get_base_model(self):\n",
    "          self.model=tf.keras.models.load_model(\n",
    "               self.config.updated_base_model_path\n",
    "          )\n",
    "          \n",
    "     def train_valid_generator(self):\n",
    "          datagenerator_kwargs=dict(\n",
    "               rescale=1./255,\n",
    "               validation_split=0.20\n",
    "          )\n",
    "          dataflow_kwargs=dict(\n",
    "               target_size=self.config.params_image_size[:-1],\n",
    "               batch_size=self.config.params_batch_size,\n",
    "               interpolation='bilinear'\n",
    "\n",
    "          )\n",
    "          \n",
    "          valid_datagenerator=tf.keras.preprocessing.image.ImageDataGenerator(\n",
    "               **datagenerator_kwargs\n",
    "          )\n",
    "          \n",
    "          self.valid_generator=valid_datagenerator.flow_from_directory(\n",
    "               directory=self.config.training_data,\n",
    "               subset='validation',\n",
    "               shuffle=False,\n",
    "               **dataflow_kwargs\n",
    "          )\n",
    "          \n",
    "          if self.config.params_is_augmentation:\n",
    "               train_datagenerator = tf.keras.preprocessing.image.ImageDataGenerator(\n",
    "                rotation_range=40,\n",
    "                horizontal_flip=True,\n",
    "                width_shift_range=0.2,\n",
    "                height_shift_range=0.2,\n",
    "                shear_range=0.2,\n",
    "                zoom_range=0.2,\n",
    "                **datagenerator_kwargs\n",
    "            )\n",
    "          else:\n",
    "               train_datagenerator=valid_datagenerator\n",
    "               \n",
    "          self.train_generator=train_datagenerator.flow_from_directory(\n",
    "          directory=self.config.training_data,\n",
    "            subset=\"training\",\n",
    "            shuffle=True,\n",
    "            **dataflow_kwargs\n",
    "          )\n",
    "          \n",
    "          \n",
    "     @staticmethod\n",
    "     def save_model(path: Path, model: tf.keras.Model):\n",
    "        model.save(path)\n",
    "\n",
    "\n",
    "     def train(self, callback_list: list):\n",
    "          self.steps_per_epoch = self.train_generator.samples // self.train_generator.batch_size\n",
    "          self.validation_steps = self.valid_generator.samples // self.valid_generator.batch_size\n",
    "\n",
    "          self.model.fit(\n",
    "            self.train_generator,\n",
    "            epochs=self.config.params_epochs,\n",
    "            steps_per_epoch=self.steps_per_epoch,\n",
    "            validation_steps=self.validation_steps,\n",
    "            validation_data=self.valid_generator,\n",
    "            callbacks=callback_list\n",
    "        )\n",
    "\n",
    "          self.save_model(\n",
    "            path=self.config.trained_model_path,\n",
    "            model=self.model\n",
    "        )\n",
    "          "
   ]
  },
  {
   "cell_type": "code",
   "execution_count": 12,
   "metadata": {},
   "outputs": [
    {
     "name": "stdout",
     "output_type": "stream",
     "text": [
      "Found 78 images belonging to 2 classes.\n",
      "Found 312 images belonging to 2 classes.\n",
      "Epoch 1/10\n",
      "19/19 [==============================] - 89s 5s/step - loss: 13.4254 - accuracy: 0.5169 - val_loss: 2.2278 - val_accuracy: 0.6719\n",
      "Epoch 2/10\n"
     ]
    },
    {
     "name": "stderr",
     "output_type": "stream",
     "text": [
      "d:\\Chicken_Disease_Classification\\chicken\\lib\\site-packages\\keras\\src\\engine\\training.py:3000: UserWarning: You are saving your model as an HDF5 file via `model.save()`. This file format is considered legacy. We recommend using instead the native Keras format, e.g. `model.save('my_model.keras')`.\n",
      "  saving_api.save_model(\n"
     ]
    },
    {
     "name": "stdout",
     "output_type": "stream",
     "text": [
      "19/19 [==============================] - 106s 6s/step - loss: 9.1353 - accuracy: 0.6520 - val_loss: 0.9081 - val_accuracy: 0.8438\n",
      "Epoch 3/10\n",
      "19/19 [==============================] - 117s 6s/step - loss: 3.5077 - accuracy: 0.7128 - val_loss: 4.3374 - val_accuracy: 0.6875\n",
      "Epoch 4/10\n",
      "19/19 [==============================] - 92s 5s/step - loss: 2.2543 - accuracy: 0.7804 - val_loss: 1.6283 - val_accuracy: 0.7969\n",
      "Epoch 5/10\n",
      "19/19 [==============================] - 89s 5s/step - loss: 2.4331 - accuracy: 0.8041 - val_loss: 0.9028 - val_accuracy: 0.9219\n",
      "Epoch 6/10\n",
      "19/19 [==============================] - 88s 5s/step - loss: 1.6775 - accuracy: 0.8480 - val_loss: 0.9728 - val_accuracy: 0.9219\n",
      "Epoch 7/10\n",
      "19/19 [==============================] - 99s 5s/step - loss: 1.1158 - accuracy: 0.8716 - val_loss: 1.0197 - val_accuracy: 0.8906\n",
      "Epoch 8/10\n",
      "19/19 [==============================] - 96s 5s/step - loss: 0.8868 - accuracy: 0.9088 - val_loss: 1.1240 - val_accuracy: 0.8594\n",
      "Epoch 9/10\n",
      "19/19 [==============================] - 99s 5s/step - loss: 0.5586 - accuracy: 0.9189 - val_loss: 0.8338 - val_accuracy: 0.9219\n",
      "Epoch 10/10\n",
      "19/19 [==============================] - 100s 5s/step - loss: 0.6345 - accuracy: 0.9145 - val_loss: 0.7588 - val_accuracy: 0.9219\n"
     ]
    }
   ],
   "source": [
    "try:\n",
    "    config = ConfigurationManager()\n",
    "    prepare_callbacks_config = config.get_prepare_callback_config()\n",
    "    prepare_callbacks = PrepareCallback(config=prepare_callbacks_config)\n",
    "    callback_list = prepare_callbacks.get_tb_ckpt_callbacks()\n",
    "\n",
    "    training_config = config.get_training_config()\n",
    "    training = Training(config=training_config)\n",
    "    training.get_base_model()\n",
    "    training.train_valid_generator()\n",
    "    training.train(\n",
    "        callback_list=callback_list\n",
    "    )\n",
    "    \n",
    "except Exception as e:\n",
    "    raise e"
   ]
  },
  {
   "cell_type": "code",
   "execution_count": null,
   "metadata": {},
   "outputs": [],
   "source": []
  }
 ],
 "metadata": {
  "kernelspec": {
   "display_name": "Python 3",
   "language": "python",
   "name": "python3"
  },
  "language_info": {
   "codemirror_mode": {
    "name": "ipython",
    "version": 3
   },
   "file_extension": ".py",
   "mimetype": "text/x-python",
   "name": "python",
   "nbconvert_exporter": "python",
   "pygments_lexer": "ipython3",
   "version": "3.8.0"
  }
 },
 "nbformat": 4,
 "nbformat_minor": 2
}
