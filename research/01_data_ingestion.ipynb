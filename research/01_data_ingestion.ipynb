{
 "cells": [
  {
   "cell_type": "code",
   "execution_count": 1,
   "metadata": {},
   "outputs": [],
   "source": [
    "import os "
   ]
  },
  {
   "cell_type": "code",
   "execution_count": 2,
   "metadata": {},
   "outputs": [
    {
     "data": {
      "text/plain": [
       "'d:\\\\Chicken_Disease_Classification\\\\research'"
      ]
     },
     "execution_count": 2,
     "metadata": {},
     "output_type": "execute_result"
    }
   ],
   "source": [
    "%pwd"
   ]
  },
  {
   "cell_type": "code",
   "execution_count": 3,
   "metadata": {},
   "outputs": [],
   "source": [
    "os.chdir('../')"
   ]
  },
  {
   "cell_type": "code",
   "execution_count": 4,
   "metadata": {},
   "outputs": [
    {
     "data": {
      "text/plain": [
       "'d:\\\\Chicken_Disease_Classification'"
      ]
     },
     "execution_count": 4,
     "metadata": {},
     "output_type": "execute_result"
    }
   ],
   "source": [
    "%pwd"
   ]
  },
  {
   "cell_type": "code",
   "execution_count": 19,
   "metadata": {},
   "outputs": [],
   "source": [
    "from dataclasses import dataclass\n",
    "from pathlib import Path\n",
    "\n",
    "@dataclass(frozen=True)\n",
    "class DataIngestionConfig:\n",
    "     root_dir: Path \n",
    "     source_URL: Path \n",
    "     local_data_file: Path \n",
    "     unzip_dir: Path "
   ]
  },
  {
   "cell_type": "code",
   "execution_count": 20,
   "metadata": {},
   "outputs": [],
   "source": [
    "from src.CnnClassifier.constants import *\n",
    "from src.CnnClassifier.utils.common import read_yaml,create_directories\n",
    "# from box import BoxException\n"
   ]
  },
  {
   "cell_type": "code",
   "execution_count": 25,
   "metadata": {},
   "outputs": [],
   "source": [
    "class ConfigurationManager:\n",
    "     def __init__(\n",
    "          self,\n",
    "          config_filepath=CONFIG_FILE_PATH,\n",
    "          params_filepath=PARAMS_FILE_PATH\n",
    "          \n",
    "     ):\n",
    "          self.config=read_yaml(config_filepath)\n",
    "          self.params=read_yaml(params_filepath)\n",
    "          create_directories([self.config.artifacts_root])\n",
    "     \n",
    "     def get_data_ingestion_config(self)->DataIngestionConfig:\n",
    "          config=self.config.data_ingestion\n",
    "          create_directories([config.root_dir])\n",
    "          data_ingestion_config=DataIngestionConfig(\n",
    "               root_dir=config.root_dir,\n",
    "               source_URL=config.source_URL,\n",
    "               local_data_file=config.local_data_file,\n",
    "               unzip_dir=config.unzip_dir,\n",
    "          )\n",
    "          return data_ingestion_config\n",
    "          "
   ]
  },
  {
   "cell_type": "code",
   "execution_count": 26,
   "metadata": {},
   "outputs": [],
   "source": [
    "import os \n",
    "import urllib.request as request\n",
    "import zipfile\n",
    "from src.CnnClassifier.logger.logg import logging\n",
    "from src.CnnClassifier.utils.common import get_size"
   ]
  },
  {
   "cell_type": "code",
   "execution_count": 29,
   "metadata": {},
   "outputs": [],
   "source": [
    "class DataIngestion:\n",
    "     def __init__(self,config:DataIngestionConfig):\n",
    "          self.config=config\n",
    "          \n",
    "     def download_file(self):\n",
    "          if not os.path.exists(self.config.local_data_file):\n",
    "               filename,headers=request.urlretrieve(\n",
    "                    url=self.config.source_URL,\n",
    "                    filename=self.config.local_data_file\n",
    "               )\n",
    "               file_path = Path(self.config.local_data_file)\n",
    "               logging.info(f\"Downloaded {get_size(file_path)} from {self.config.source_URL}\")\n",
    "          else:\n",
    "               logging.info(f\"{self.config.local_data_file} already exists\")\n",
    "               \n",
    "     def extract_zip_file(self):\n",
    "          unzip_path=self.config.unzip_dir\n",
    "          os.makedirs(unzip_path,exist_ok=True)\n",
    "          with zipfile.ZipFile(self.config.local_data_file,\"r\") as zip_ref:\n",
    "               zip_ref.extractall(unzip_path)\n",
    "               logging.info(f\"Extracted {self.config.local_data_file} to {self.config.unzip_dir}\")"
   ]
  },
  {
   "cell_type": "code",
   "execution_count": 30,
   "metadata": {},
   "outputs": [],
   "source": [
    "try:\n",
    "     config=ConfigurationManager()\n",
    "     data_ingestion_config=config.get_data_ingestion_config()\n",
    "     dataingestion=DataIngestion(data_ingestion_config)\n",
    "     dataingestion.download_file()\n",
    "     dataingestion.extract_zip_file()\n",
    "except Exception as e:\n",
    "     raise(e)"
   ]
  },
  {
   "cell_type": "code",
   "execution_count": null,
   "metadata": {},
   "outputs": [],
   "source": []
  },
  {
   "cell_type": "code",
   "execution_count": null,
   "metadata": {},
   "outputs": [],
   "source": []
  },
  {
   "cell_type": "code",
   "execution_count": null,
   "metadata": {},
   "outputs": [],
   "source": []
  }
 ],
 "metadata": {
  "kernelspec": {
   "display_name": "Python 3",
   "language": "python",
   "name": "python3"
  },
  "language_info": {
   "codemirror_mode": {
    "name": "ipython",
    "version": 3
   },
   "file_extension": ".py",
   "mimetype": "text/x-python",
   "name": "python",
   "nbconvert_exporter": "python",
   "pygments_lexer": "ipython3",
   "version": "3.8.0"
  }
 },
 "nbformat": 4,
 "nbformat_minor": 2
}
